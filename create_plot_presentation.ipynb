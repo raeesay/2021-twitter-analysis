{
 "cells": [
  {
   "cell_type": "code",
   "execution_count": 1,
   "id": "97459bb4",
   "metadata": {},
   "outputs": [],
   "source": [
    "# data processing and network processing \n",
    "import pandas as pd\n",
    "import networkx as nx\n",
    "\n",
    "# plotting\n",
    "import matplotlib\n",
    "import matplotlib.pyplot as plt\n",
    "\n",
    "# role extraction\n",
    "from graphrole import RecursiveFeatureExtractor, RoleExtractor\n",
    "\n",
    "# extras\n",
    "import numpy as np\n",
    "import seaborn as sns\n",
    "import warnings\n",
    "from pprint import pprint"
   ]
  },
  {
   "cell_type": "code",
   "execution_count": 2,
   "id": "62c75af9",
   "metadata": {},
   "outputs": [],
   "source": [
    "# load the data set\n",
    "data = pd.read_csv('data-triell.csv')"
   ]
  },
  {
   "cell_type": "code",
   "execution_count": 3,
   "id": "7af51128",
   "metadata": {},
   "outputs": [
    {
     "data": {
      "text/plain": [
       "(16660, 3)"
      ]
     },
     "execution_count": 3,
     "metadata": {},
     "output_type": "execute_result"
    }
   ],
   "source": [
    "# check data\n",
    "data.shape"
   ]
  },
  {
   "cell_type": "code",
   "execution_count": 4,
   "id": "a1c7d6f8",
   "metadata": {},
   "outputs": [],
   "source": [
    "def create_directed_graph(df):\n",
    "    g = nx.from_pandas_edgelist(df, source='username_1',\n",
    "                                target='username_2',\n",
    "                                create_using=nx.DiGraph())\n",
    "    return g"
   ]
  },
  {
   "cell_type": "code",
   "execution_count": 5,
   "id": "e9abbae0",
   "metadata": {},
   "outputs": [],
   "source": [
    "# create retweet graph from dataframe\n",
    "g = create_directed_graph(data)"
   ]
  },
  {
   "cell_type": "code",
   "execution_count": 6,
   "id": "0f2a9b07",
   "metadata": {},
   "outputs": [
    {
     "data": {
      "text/plain": [
       "<networkx.classes.digraph.DiGraph at 0x1ca42b020d0>"
      ]
     },
     "execution_count": 6,
     "metadata": {},
     "output_type": "execute_result"
    }
   ],
   "source": [
    "g"
   ]
  },
  {
   "cell_type": "code",
   "execution_count": 17,
   "id": "3f5f3f9b",
   "metadata": {},
   "outputs": [],
   "source": [
    "# create subgraph (egograph) of specific node\n",
    "x = ''\n",
    "def create_subgraph():\n",
    "    x = input()\n",
    "    f = nx.ego_graph(g, x, undirected=True)\n",
    "    \n",
    "    # print information of graph\n",
    "    print(nx.info(f))\n",
    "    \n",
    "    return f"
   ]
  },
  {
   "cell_type": "code",
   "execution_count": 32,
   "id": "8e4c8943",
   "metadata": {},
   "outputs": [
    {
     "name": "stdout",
     "output_type": "stream",
     "text": [
      "c_lindner\n",
      "Name: \n",
      "Type: DiGraph\n",
      "Number of nodes: 28\n",
      "Number of edges: 61\n",
      "Average in degree:   2.1786\n",
      "Average out degree:   2.1786\n"
     ]
    }
   ],
   "source": [
    "f = create_subgraph()"
   ]
  },
  {
   "cell_type": "code",
   "execution_count": 33,
   "id": "da426ef0",
   "metadata": {},
   "outputs": [
    {
     "data": {
      "text/plain": [
       "<networkx.classes.digraph.DiGraph at 0x1ca74976d90>"
      ]
     },
     "execution_count": 33,
     "metadata": {},
     "output_type": "execute_result"
    }
   ],
   "source": [
    "f"
   ]
  },
  {
   "cell_type": "code",
   "execution_count": 34,
   "id": "ce50676d",
   "metadata": {},
   "outputs": [
    {
     "name": "stdout",
     "output_type": "stream",
     "text": [
      "\n",
      "Features extracted from 2 recursive generations:\n",
      "                 external_edges(mean)  in_degree(mean)  external_edges  \\\n",
      "DABornhoeft                  0.000000        15.000000               2   \n",
      "Felidae69427721              0.500000        16.000000               1   \n",
      "JBrandenburgFDP              0.500000        18.500000               6   \n",
      "KonstantinKuhle              0.500000        18.500000               7   \n",
      "Lambsdorff                   0.000000        28.000000               1   \n",
      "MMundelein                   0.500000        16.000000               1   \n",
      "MarcoBuschmann               0.000000        28.000000               1   \n",
      "OlliLuksic                   0.000000        15.500000               0   \n",
      "Otto_Fricke                  0.500000        18.500000               7   \n",
      "SusaSchneider                0.000000        28.000000               1   \n",
      "Tobiter2                     0.500000        16.000000               1   \n",
      "TomSchreiberMdA              0.000000        28.000000               1   \n",
      "c_jung77                     2.000000        10.500000               4   \n",
      "c_lindner                    0.000000        15.500000               0   \n",
      "c_vogt                       0.500000        18.500000               6   \n",
      "carina_konrad                0.500000        18.500000               7   \n",
      "cutwindt                     0.500000        16.000000               1   \n",
      "daniel_freund                0.500000        15.000000               1   \n",
      "fdp                          2.375000         6.125000               1   \n",
      "florian_toncar               0.000000        28.000000               1   \n",
      "frank_thelen                 0.000000        28.000000               0   \n",
      "konopka_p                    0.500000        18.500000               7   \n",
      "moritzkoerner                0.500000        14.500000               1   \n",
      "salomon_alex                 0.500000        14.500000               1   \n",
      "sandra_weeser                0.000000        28.000000               1   \n",
      "sbamueller                   0.500000        14.500000               1   \n",
      "thPichler                    3.500000        14.500000               2   \n",
      "th_sattelberger              1.666667         7.333333               7   \n",
      "\n",
      "                 in_degree  internal_edges  out_degree  total_degree  \n",
      "DABornhoeft              0               4           2             2  \n",
      "Felidae69427721          0               4           2             2  \n",
      "JBrandenburgFDP          2               6           2             4  \n",
      "KonstantinKuhle          0               5           2             2  \n",
      "Lambsdorff               0               2           1             1  \n",
      "MMundelein               0               4           2             2  \n",
      "MarcoBuschmann           3               2           1             4  \n",
      "OlliLuksic               2               5           2             4  \n",
      "Otto_Fricke              1               5           2             3  \n",
      "SusaSchneider            0               2           1             1  \n",
      "Tobiter2                 0               4           2             2  \n",
      "TomSchreiberMdA          0               2           1             1  \n",
      "c_jung77                 1              13           4             5  \n",
      "c_lindner               28               3           2            30  \n",
      "c_vogt                   1               6           2             3  \n",
      "carina_konrad            0               5           2             2  \n",
      "cutwindt                 0               4           2             2  \n",
      "daniel_freund            1               5           2             3  \n",
      "fdp                      9              21           8            17  \n",
      "florian_toncar           1               2           1             2  \n",
      "frank_thelen             3               3           1             4  \n",
      "konopka_p                0               5           2             2  \n",
      "moritzkoerner            2               5           2             4  \n",
      "salomon_alex             1               5           2             3  \n",
      "sandra_weeser            4               2           1             5  \n",
      "sbamueller               1               5           2             3  \n",
      "thPichler                0               4           2             2  \n",
      "th_sattelberger          1              13           6             7  \n"
     ]
    }
   ],
   "source": [
    "# extract features of subgraph created\n",
    "feature_extractor = RecursiveFeatureExtractor(f)\n",
    "features = feature_extractor.extract_features()\n",
    "\n",
    "print(f'\\nFeatures extracted from {feature_extractor.generation_count} recursive generations:')\n",
    "print(features)"
   ]
  },
  {
   "cell_type": "code",
   "execution_count": 35,
   "id": "d73f67a4",
   "metadata": {},
   "outputs": [
    {
     "name": "stdout",
     "output_type": "stream",
     "text": [
      "\n",
      "Node role assignments:\n",
      "{'DABornhoeft': 'role_3',\n",
      " 'Felidae69427721': 'role_3',\n",
      " 'JBrandenburgFDP': 'role_6',\n",
      " 'KonstantinKuhle': 'role_1',\n",
      " 'Lambsdorff': 'role_0',\n",
      " 'MMundelein': 'role_3',\n",
      " 'MarcoBuschmann': 'role_0',\n",
      " 'OlliLuksic': 'role_3',\n",
      " 'Otto_Fricke': 'role_1',\n",
      " 'SusaSchneider': 'role_0',\n",
      " 'Tobiter2': 'role_3',\n",
      " 'TomSchreiberMdA': 'role_0',\n",
      " 'c_jung77': 'role_4',\n",
      " 'c_lindner': 'role_2',\n",
      " 'c_vogt': 'role_1',\n",
      " 'carina_konrad': 'role_1',\n",
      " 'cutwindt': 'role_3',\n",
      " 'daniel_freund': 'role_3',\n",
      " 'fdp': 'role_4',\n",
      " 'florian_toncar': 'role_0',\n",
      " 'frank_thelen': 'role_0',\n",
      " 'konopka_p': 'role_1',\n",
      " 'moritzkoerner': 'role_3',\n",
      " 'salomon_alex': 'role_3',\n",
      " 'sandra_weeser': 'role_0',\n",
      " 'sbamueller': 'role_3',\n",
      " 'thPichler': 'role_5',\n",
      " 'th_sattelberger': 'role_6'}\n",
      "\n",
      "Node role membership by percentage:\n",
      "                 role_0  role_1  role_2  role_3  role_4  role_5  role_6\n",
      "DABornhoeft        0.18    0.18    0.02    0.32    0.10    0.02    0.18\n",
      "Felidae69427721    0.19    0.02    0.02    0.52    0.11    0.02    0.11\n",
      "JBrandenburgFDP    0.21    0.07    0.07    0.01    0.01    0.11    0.52\n",
      "KonstantinKuhle    0.07    0.55    0.01    0.01    0.07    0.07    0.22\n",
      "Lambsdorff         0.39    0.14    0.02    0.39    0.02    0.02    0.02\n",
      "MMundelein         0.19    0.02    0.02    0.52    0.11    0.02    0.11\n",
      "MarcoBuschmann     0.35    0.13    0.13    0.23    0.02    0.13    0.02\n",
      "OlliLuksic         0.21    0.03    0.12    0.38    0.21    0.03    0.03\n",
      "Otto_Fricke        0.10    0.47    0.01    0.01    0.06    0.06    0.28\n",
      "SusaSchneider      0.39    0.14    0.02    0.39    0.02    0.02    0.02\n",
      "Tobiter2           0.19    0.02    0.02    0.52    0.11    0.02    0.11\n",
      "TomSchreiberMdA    0.39    0.14    0.02    0.39    0.02    0.02    0.02\n",
      "c_jung77           0.02    0.02    0.02    0.07    0.33    0.22    0.33\n",
      "c_lindner          0.01    0.01    0.92    0.01    0.01    0.01    0.01\n",
      "c_vogt             0.13    0.35    0.02    0.02    0.13    0.13    0.23\n",
      "carina_konrad      0.07    0.55    0.01    0.01    0.07    0.07    0.22\n",
      "cutwindt           0.19    0.02    0.02    0.52    0.11    0.02    0.11\n",
      "daniel_freund      0.16    0.10    0.02    0.30    0.16    0.16    0.10\n",
      "fdp                0.01    0.01    0.23    0.01    0.64    0.01    0.09\n",
      "florian_toncar     0.39    0.14    0.02    0.39    0.02    0.02    0.02\n",
      "frank_thelen       0.35    0.02    0.13    0.35    0.02    0.13    0.02\n",
      "konopka_p          0.07    0.55    0.01    0.01    0.07    0.07    0.22\n",
      "moritzkoerner      0.16    0.02    0.10    0.30    0.16    0.16    0.10\n",
      "salomon_alex       0.16    0.10    0.02    0.30    0.16    0.16    0.10\n",
      "sandra_weeser      0.35    0.13    0.13    0.23    0.02    0.13    0.02\n",
      "sbamueller         0.16    0.10    0.02    0.30    0.16    0.16    0.10\n",
      "thPichler          0.02    0.08    0.02    0.08    0.08    0.61    0.13\n",
      "th_sattelberger    0.02    0.02    0.02    0.02    0.34    0.02    0.58\n"
     ]
    }
   ],
   "source": [
    "# assign node roles\n",
    "role_extractor = RoleExtractor(n_roles=None)\n",
    "role_extractor.extract_role_factors(features)\n",
    "node_roles = role_extractor.roles\n",
    "\n",
    "print('\\nNode role assignments:')\n",
    "pprint(node_roles)\n",
    "\n",
    "print('\\nNode role membership by percentage:')\n",
    "print(role_extractor.role_percentage.round(2))"
   ]
  },
  {
   "cell_type": "code",
   "execution_count": 36,
   "id": "7d4fa260",
   "metadata": {},
   "outputs": [],
   "source": [
    "# build color palette for plotting\n",
    "unique_roles = sorted(set(node_roles.values()))\n",
    "color_map = sns.color_palette('Paired', n_colors=len(unique_roles))\n",
    "# map roles to colors\n",
    "role_colors = {role: color_map[i] for i, role in enumerate(unique_roles)}\n",
    "# build list of colors for all nodes in G\n",
    "node_colors = [role_colors[node_roles[node]] for node in f.nodes]"
   ]
  },
  {
   "cell_type": "code",
   "execution_count": 48,
   "id": "a80fa2fe",
   "metadata": {},
   "outputs": [
    {
     "data": {
      "image/png": "[encoded data removed]",
      "text/plain": [
       "<Figure size 432x288 with 1 Axes>"
      ]
     },
     "metadata": {},
     "output_type": "display_data"
    }
   ],
   "source": [
    "# plot graph\n",
    "plt.figure()\n",
    "\n",
    "with warnings.catch_warnings():\n",
    "    # catch matplotlib deprecation warning\n",
    "    warnings.simplefilter('ignore')\n",
    "    nx.draw(\n",
    "        f,\n",
    "        pos=nx.spring_layout(f),\n",
    "        with_labels=False,\n",
    "        node_color=node_colors,\n",
    "    )\n",
    "\n",
    "plt.show()"
   ]
  },
  {
   "cell_type": "code",
   "execution_count": null,
   "id": "207d3e24",
   "metadata": {},
   "outputs": [],
   "source": [
    "# generated graph with roles\n",
    "# each role a different colour\n",
    "# used to highlight difference between roles and communities\n",
    "# communities are based on well-connectedness and are dense groups of nodes\n",
    "# roles do not necessarily have to be connected to one another"
   ]
  }
 ],
 "metadata": {
  "kernelspec": {
   "display_name": "Python 3",
   "language": "python",
   "name": "python3"
  },
  "language_info": {
   "codemirror_mode": {
    "name": "ipython",
    "version": 3
   },
   "file_extension": ".py",
   "mimetype": "text/x-python",
   "name": "python",
   "nbconvert_exporter": "python",
   "pygments_lexer": "ipython3",
   "version": "3.8.8"
  }
 },
 "nbformat": 4,
 "nbformat_minor": 5
}
